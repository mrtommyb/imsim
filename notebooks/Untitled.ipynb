{
 "cells": [
  {
   "cell_type": "code",
   "execution_count": 191,
   "metadata": {},
   "outputs": [],
   "source": [
    "import numpy as np\n",
    "import matplotlib.pyplot as plt\n",
    "import astropy.units as u\n",
    "import astropy.constants as c\n",
    "from photutils.datasets import make_gaussian_sources_image, make_noise_image\n",
    "from astropy.table import Table\n",
    "from tqdm import tqdm, trange\n",
    "\n",
    "%matplotlib inline"
   ]
  },
  {
   "cell_type": "code",
   "execution_count": 64,
   "metadata": {},
   "outputs": [],
   "source": [
    "fn = '../data/1551210093509O-result.csv' #stars in pi deg^2\n",
    "dataset = Table.read(fn, )"
   ]
  },
  {
   "cell_type": "code",
   "execution_count": 405,
   "metadata": {},
   "outputs": [
    {
     "name": "stdout",
     "output_type": "stream",
     "text": [
      "0.012345679012345678 deg2\n",
      "73.73608889384523 ct / s\n"
     ]
    }
   ],
   "source": [
    "arcsec_per_pixel = 4 * u.arcsec\n",
    "image_shape = (100, 100) # pixels\n",
    "image_area = (image_shape[0] * image_shape[1] * arcsec_per_pixel * arcsec_per_pixel).to(u.degree*u.degree)\n",
    "print(image_area)\n",
    "\n",
    "throughput = 0.8\n",
    "QE = 0.9 * u.ct/u.photon\n",
    "lam = 0.4*u.um\n",
    "dlam = 0.15*u.um\n",
    "\n",
    "mirror_diameter = 0.3 * u.m\n",
    "mirror_area = mirror_diameter**2 * np.pi\n",
    "\n",
    "texp = 600 * u.s\n",
    "texp_sub = 60 * u.s\n",
    "\n",
    "mag_target = 21\n",
    "mag_host = mag_target - 5\n",
    "\n",
    "zodi_per_arcsec = 4.e-6 * u.Jy \n",
    "zodi_per_pixel = (zodi_per_arcsec * arcsec_per_pixel.value**2*c.c/lam**2*dlam*mirror_area/(c.h*c.c/lam/u.photon)\n",
    "                 ).to(u.photon/u.s)\n",
    "\n",
    "zodi_ct_per_pixel = zodi_per_pixel * throughput * QE\n",
    "print(zodi_ct_per_pixel.to(u.ct/u.s))\n",
    "\n",
    "psf_oversample = 2\n",
    "\n",
    "galaxy_shape = [10,15]\n",
    "target_dist_arcsec = 15\n",
    "target_dist_pixels = target_dist_arcsec / arcsec_per_pixel"
   ]
  },
  {
   "cell_type": "code",
   "execution_count": 406,
   "metadata": {},
   "outputs": [],
   "source": [
    "# convert to Jy (10−23 erg s−1 Hz−1 cm−2)\n",
    "bgstarsflux = 10**((dataset['phot_g_mean_mag'] - 8.9) / -2.5) * u.Jansky\n",
    "bgstars_photons = bgstarsflux.to(u.photon / u.cm**2 / u.s / u.um,\n",
    "                  equivalencies=u.spectral_density(0.4 * u.um)) * mirror_area.to(u.cm**2) * dlam\n",
    "bgstars_cnts = bgstars_photons * throughput * QE * texp\n",
    "\n",
    "flux_host = 10**((mag_host - 8.9) / -2.5) * u.Jansky\n",
    "flux_target = 10**((mag_target - 8.9) / -2.5) * u.Jansky\n",
    "\n",
    "photons_host = flux_host.to(u.photon / u.cm**2 / u.s / u.um,\n",
    "                  equivalencies=u.spectral_density(0.4 * u.um)) * mirror_area.to(u.cm**2) * dlam\n",
    "cnts_host = photons_host * throughput * QE * texp\n",
    "\n",
    "photons_target = flux_target.to(u.photon / u.cm**2 / u.s / u.um,\n",
    "                  equivalencies=u.spectral_density(0.4 * u.um)) * mirror_area.to(u.cm**2) * dlam\n",
    "cnts_target = photons_target * throughput * QE * texp\n",
    "\n",
    "nstars_per_square_degree = int(len(dataset) // np.pi)\n",
    "nstars_per_square_degree *= image_area.value \n",
    "nstars_per_square_degree = np.int(nstars_per_square_degree)\n",
    "x_stddev = 6 * u.arcsec\n",
    "y_stddev = 6 * u.arcsec\n"
   ]
  },
  {
   "cell_type": "code",
   "execution_count": 429,
   "metadata": {},
   "outputs": [],
   "source": [
    "np.random.seed(98)\n",
    "\n",
    "table_bgstars = Table()\n",
    "fval = np.random.choice(bgstars_cnts, nstars_per_square_degree)\n",
    "table_bgstars['flux'] = np.random.poisson(fval)\n",
    "table_bgstars['x_mean'] = np.random.uniform(high=image_shape[0], size=nstars_per_square_degree) # * u.pixel\n",
    "table_bgstars['y_mean'] = np.random.uniform(high=image_shape[1], size=nstars_per_square_degree) # * u.pixel\n",
    "table_bgstars['x_stddev'] = (np.zeros(nstars_per_square_degree) + x_stddev) / arcsec_per_pixel\n",
    "table_bgstars['y_stddev'] = (np.zeros(nstars_per_square_degree) + y_stddev) / arcsec_per_pixel\n",
    "table_bgstars['theta'] = np.zeros(nstars_per_square_degree) * u.radian\n",
    "\n",
    "table_bgstars2 = table_bgstars\n",
    "table_bgstars2['flux'] = np.random.poisson(fval)"
   ]
  },
  {
   "cell_type": "code",
   "execution_count": 430,
   "metadata": {},
   "outputs": [],
   "source": [
    "image_bgstars = make_gaussian_sources_image(image_shape, table_bgstars, oversample=psf_oversample)\n",
    "\n",
    "image_bgstars2 = make_gaussian_sources_image(image_shape, table_bgstars2, oversample=psf_oversample)"
   ]
  },
  {
   "cell_type": "code",
   "execution_count": 431,
   "metadata": {},
   "outputs": [],
   "source": [
    "image_zodi = make_noise_image(image_shape, type='poisson', mean=zodi_ct_per_pixel.value*texp.value, )\n",
    "image_zodi2 = make_noise_image(image_shape, type='poisson', mean=zodi_ct_per_pixel.value*texp.value, )"
   ]
  },
  {
   "cell_type": "code",
   "execution_count": 435,
   "metadata": {},
   "outputs": [],
   "source": [
    "table_target = Table()\n",
    "table_target['flux'] = np.random.poisson([cnts_target.value, cnts_host.value])\n",
    "gpos = [np.random.uniform(high=image_shape[0]), np.random.uniform(high=image_shape[1])]\n",
    "table_target['x_mean'] = [gpos[0] + np.random.uniform(low=target_dist_pixels.value, high=target_dist_pixels.value),\n",
    "                          gpos[0]]\n",
    "table_target['y_mean'] = [gpos[1] + np.random.uniform(low=target_dist_pixels.value, high=target_dist_pixels.value),\n",
    "                          gpos[1]]\n",
    "table_target['x_stddev'] = [(x_stddev / arcsec_per_pixel).value, (galaxy_shape[0]/ arcsec_per_pixel).value] \n",
    "table_target['y_stddev'] = [(y_stddev/ arcsec_per_pixel).value, (galaxy_shape[1]/ arcsec_per_pixel).value] \n",
    "table_target['theta'] = np.random.uniform(high=2*np.pi, size=2) * u.radian\n",
    "\n",
    "table_target2 = table_target\n",
    "table_target2['flux'] = np.random.poisson([cnts_target.value, cnts_host.value])\n",
    "\n",
    "image_target = make_gaussian_sources_image(image_shape, Table(table_target[0]), oversample=psf_oversample)\n",
    "image_host = make_gaussian_sources_image(image_shape, Table(table_target[1]), oversample=psf_oversample)\n",
    "\n",
    "image_host2 = make_gaussian_sources_image(image_shape, Table(table_target2[1]), oversample=psf_oversample)"
   ]
  },
  {
   "cell_type": "code",
   "execution_count": 436,
   "metadata": {},
   "outputs": [
    {
     "data": {
      "text/plain": [
       "<matplotlib.colorbar.Colorbar at 0x7f964324b518>"
      ]
     },
     "execution_count": 436,
     "metadata": {},
     "output_type": "execute_result"
    },
    {
     "data": {
      "image/png": "[encoded data removed]",
      "text/plain": [
       "<Figure size 864x864 with 2 Axes>"
      ]
     },
     "metadata": {
      "needs_background": "light"
     },
     "output_type": "display_data"
    }
   ],
   "source": [
    "fig, ax = plt.subplots(figsize=[12,12])\n",
    "tot_im = image_bgstars+image_zodi+image_target+image_host\n",
    "im = ax.imshow(tot_im, origin='lower', interpolation='nearest')\n",
    "\n",
    "plt.scatter(table_target['x_mean'], table_target['y_mean'], marker='o', color='None', edgecolors='r')\n",
    "fig.colorbar(im)"
   ]
  },
  {
   "cell_type": "code",
   "execution_count": 438,
   "metadata": {},
   "outputs": [
    {
     "data": {
      "text/plain": [
       "<matplotlib.colorbar.Colorbar at 0x7f96431762b0>"
      ]
     },
     "execution_count": 438,
     "metadata": {},
     "output_type": "execute_result"
    },
    {
     "data": {
      "image/png": "[encoded data removed]",
      "text/plain": [
       "<Figure size 864x864 with 2 Axes>"
      ]
     },
     "metadata": {
      "needs_background": "light"
     },
     "output_type": "display_data"
    }
   ],
   "source": [
    "fig, ax = plt.subplots(figsize=[12,12])\n",
    "\n",
    "ref_im = image_zodi2 + image_bgstars2 + image_host2\n",
    "\n",
    "im = ax.imshow(tot_im - ref_im, origin='lower', interpolation='nearest')\n",
    "\n",
    "plt.scatter(table_target['x_mean'][0], table_target['y_mean'][0], marker='o', color='None', edgecolors='r')\n",
    "fig.colorbar(im)"
   ]
  },
  {
   "cell_type": "code",
   "execution_count": 55,
   "metadata": {},
   "outputs": [
    {
     "data": {
      "text/plain": [
       "280988"
      ]
     },
     "execution_count": 55,
     "metadata": {},
     "output_type": "execute_result"
    }
   ],
   "source": [
    "len(dataset)"
   ]
  },
  {
   "cell_type": "code",
   "execution_count": 57,
   "metadata": {},
   "outputs": [
    {
     "data": {
      "text/plain": [
       "89441.0"
      ]
     },
     "execution_count": 57,
     "metadata": {},
     "output_type": "execute_result"
    }
   ],
   "source": [
    "len(dataset) // np.pi"
   ]
  },
  {
   "cell_type": "code",
   "execution_count": 291,
   "metadata": {},
   "outputs": [
    {
     "data": {
      "text/plain": [
       "(<Quantity 2312.95736602 ph / s>, <Quantity 23.12957366 ph / s>)"
      ]
     },
     "execution_count": 291,
     "metadata": {},
     "output_type": "execute_result"
    }
   ],
   "source": [
    "photons_host, photons_target"
   ]
  },
  {
   "cell_type": "code",
   "execution_count": 187,
   "metadata": {},
   "outputs": [
    {
     "data": {
      "text/plain": [
       "(array([2.57095e+05, 1.30000e+01, 2.00000e+00, 1.00000e+00, 0.00000e+00,\n",
       "        0.00000e+00, 0.00000e+00, 0.00000e+00, 0.00000e+00, 2.38770e+04]),\n",
       " array([7.29435339e-07, 1.00000066e+00, 2.00000058e+00, 3.00000051e+00,\n",
       "        4.00000044e+00, 5.00000036e+00, 6.00000029e+00, 7.00000022e+00,\n",
       "        8.00000015e+00, 9.00000007e+00, 1.00000000e+01]),\n",
       " <a list of 10 Patch objects>)"
      ]
     },
     "execution_count": 187,
     "metadata": {},
     "output_type": "execute_result"
    },
    {
     "data": {
      "image/png": "[encoded data removed]",
      "text/plain": [
       "<Figure size 432x288 with 1 Axes>"
      ]
     },
     "metadata": {
      "needs_background": "light"
     },
     "output_type": "display_data"
    }
   ],
   "source": [
    "plt.hist(bgstarsflux.value)"
   ]
  },
  {
   "cell_type": "code",
   "execution_count": 428,
   "metadata": {},
   "outputs": [
    {
     "data": {
      "text/html": [
       "<i>Table length=2</i>\n",
       "<table id=\"table140283351560824\" class=\"table-striped table-bordered table-condensed\">\n",
       "<thead><tr><th>flux</th><th>x_mean</th><th>y_mean</th><th>x_stddev</th><th>y_stddev</th><th>theta</th></tr></thead>\n",
       "<thead><tr><th></th><th></th><th></th><th></th><th></th><th>rad</th></tr></thead>\n",
       "<thead><tr><th>int64</th><th>float64</th><th>float64</th><th>float64</th><th>float64</th><th>float64</th></tr></thead>\n",
       "<tr><td>10009</td><td>34.19129325923282</td><td>44.029554741814984</td><td>1.5</td><td>1.5</td><td>1.2998711481744658</td></tr>\n",
       "<tr><td>1000350</td><td>30.441293259232825</td><td>40.279554741814984</td><td>2.5</td><td>3.75</td><td>1.483392653729984</td></tr>\n",
       "</table>"
      ],
      "text/plain": [
       "<Table length=2>\n",
       "  flux        x_mean             y_mean       ... y_stddev       theta       \n",
       "                                              ...                 rad        \n",
       " int64       float64            float64       ... float64       float64      \n",
       "------- ------------------ ------------------ ... -------- ------------------\n",
       "  10009  34.19129325923282 44.029554741814984 ...      1.5 1.2998711481744658\n",
       "1000350 30.441293259232825 40.279554741814984 ...     3.75  1.483392653729984"
      ]
     },
     "execution_count": 428,
     "metadata": {},
     "output_type": "execute_result"
    }
   ],
   "source": [
    "table_target2"
   ]
  },
  {
   "cell_type": "code",
   "execution_count": 209,
   "metadata": {},
   "outputs": [
    {
     "data": {
      "text/latex": [
       "$5.0811447 \\times 10^{9} \\; \\mathrm{\\frac{ph}{s}}$"
      ],
      "text/plain": [
       "<Quantity 5.08114467e+09 ph / s>"
      ]
     },
     "execution_count": 209,
     "metadata": {},
     "output_type": "execute_result"
    }
   ],
   "source": [
    "bgstarsflux[0].to(u.photon / u.cm**2 / u.s / u.um, equivalencies=u.spectral_density(0.4 * u.um)) * mirror_area.to(u.cm**2) * 400*u.um"
   ]
  },
  {
   "cell_type": "code",
   "execution_count": 249,
   "metadata": {},
   "outputs": [
    {
     "data": {
      "text/html": [
       "<i>Table length=0</i>\n",
       "<No columns>"
      ],
      "text/plain": [
       "<Table length=0>\n",
       "<No columns>"
      ]
     },
     "execution_count": 249,
     "metadata": {},
     "output_type": "execute_result"
    }
   ],
   "source": [
    "table_bgstars"
   ]
  },
  {
   "cell_type": "code",
   "execution_count": 267,
   "metadata": {},
   "outputs": [
    {
     "data": {
      "text/latex": [
       "$73.736089 \\; \\mathrm{\\frac{ct}{s}}$"
      ],
      "text/plain": [
       "<Quantity 73.73608889 ct / s>"
      ]
     },
     "execution_count": 267,
     "metadata": {},
     "output_type": "execute_result"
    }
   ],
   "source": [
    "zodi_per_pixel*throughput*QE"
   ]
  },
  {
   "cell_type": "code",
   "execution_count": 329,
   "metadata": {},
   "outputs": [
    {
     "data": {
      "text/latex": [
       "$3.75 \\; \\mathrm{\\frac{1}{{}^{\\prime\\prime}}}$"
      ],
      "text/plain": [
       "<Quantity 3.75 1 / arcsec>"
      ]
     },
     "execution_count": 329,
     "metadata": {},
     "output_type": "execute_result"
    }
   ],
   "source": [
    "target_dist_pixels"
   ]
  },
  {
   "cell_type": "code",
   "execution_count": 297,
   "metadata": {},
   "outputs": [
    {
     "data": {
      "text/latex": [
       "$9991.9758 \\; \\mathrm{ct}$"
      ],
      "text/plain": [
       "<Quantity 9991.97582123 ct>"
      ]
     },
     "execution_count": 297,
     "metadata": {},
     "output_type": "execute_result"
    }
   ],
   "source": [
    "cnts_target"
   ]
  },
  {
   "cell_type": "code",
   "execution_count": 306,
   "metadata": {},
   "outputs": [
    {
     "data": {
      "text/plain": [
       "1.5"
      ]
     },
     "execution_count": 306,
     "metadata": {},
     "output_type": "execute_result"
    }
   ],
   "source": [
    "(x_stddev / arcsec_per_pixel).value"
   ]
  },
  {
   "cell_type": "code",
   "execution_count": 320,
   "metadata": {},
   "outputs": [
    {
     "data": {
      "text/latex": [
       "$60 \\; \\mathrm{{}^{\\prime\\prime}}$"
      ],
      "text/plain": [
       "<Quantity 60. arcsec>"
      ]
     },
     "execution_count": 320,
     "metadata": {},
     "output_type": "execute_result"
    }
   ],
   "source": [
    "target_dist_pixels"
   ]
  },
  {
   "cell_type": "code",
   "execution_count": 334,
   "metadata": {},
   "outputs": [
    {
     "data": {
      "text/plain": [
       "[15.775840640658434, 34.54617730632788]"
      ]
     },
     "execution_count": 334,
     "metadata": {},
     "output_type": "execute_result"
    }
   ],
   "source": [
    "[np.random.uniform(high=image_shape[0]) + np.random.uniform(high=target_dist_pixels.value),\n",
    "                          np.random.uniform(high=image_shape[0])]"
   ]
  },
  {
   "cell_type": "code",
   "execution_count": 403,
   "metadata": {},
   "outputs": [
    {
     "data": {
      "text/plain": [
       "array([5101577736, 4373718910, 2971510799, ...,       6650,       6721,\n",
       "             6709])"
      ]
     },
     "execution_count": 403,
     "metadata": {},
     "output_type": "execute_result"
    }
   ],
   "source": [
    "np.random.poisson(bgstars_cnts.value)"
   ]
  },
  {
   "cell_type": "code",
   "execution_count": null,
   "metadata": {},
   "outputs": [],
   "source": []
  }
 ],
 "metadata": {
  "kernelspec": {
   "display_name": "Python 3",
   "language": "python",
   "name": "python3"
  },
  "language_info": {
   "codemirror_mode": {
    "name": "ipython",
    "version": 3
   },
   "file_extension": ".py",
   "mimetype": "text/x-python",
   "name": "python",
   "nbconvert_exporter": "python",
   "pygments_lexer": "ipython3",
   "version": "3.6.8"
  }
 },
 "nbformat": 4,
 "nbformat_minor": 2
}
